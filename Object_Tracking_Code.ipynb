{
  "nbformat": 4,
  "nbformat_minor": 0,
  "metadata": {
    "colab": {
      "provenance": []
    },
    "kernelspec": {
      "name": "python3",
      "display_name": "Python 3"
    },
    "language_info": {
      "name": "python"
    }
  },
  "cells": [
    {
      "cell_type": "code",
      "source": [
        "import cv2\n",
        "import numpy as np\n",
        "\n",
        "video_path = \"input_video.mp4\"\n",
        "cap = cv2.VideoCapture(video_path)\n",
        "\n",
        "if not cap.isOpened():\n",
        "    print(\"Error loading the video\")\n",
        "else:\n",
        "    width = int(cap.get(cv2.CAP_PROP_FRAME_WIDTH))\n",
        "    height = int(cap.get(cv2.CAP_PROP_FRAME_HEIGHT))\n",
        "    fps = cap.get(cv2.CAP_PROP_FPS)\n",
        "\n",
        "    temp_output_path = 'temp_output.mp4'\n",
        "    fourcc = cv2.VideoWriter_fourcc(*'mp4v')\n",
        "    out = cv2.VideoWriter(temp_output_path, fourcc, fps, (width, height))\n",
        "\n",
        "    while True:\n",
        "        ret, frame = cap.read()\n",
        "        if not ret:\n",
        "            break\n",
        "\n",
        "        hsv = cv2.cvtColor(frame, cv2.COLOR_BGR2HSV)\n",
        "\n",
        "        lower_red1 = np.array([0, 120, 70])\n",
        "        upper_red1 = np.array([10, 255, 255])\n",
        "        lower_red2 = np.array([170, 120, 70])\n",
        "        upper_red2 = np.array([180, 255, 255])\n",
        "        mask_red = cv2.inRange(hsv, lower_red1, upper_red1) + cv2.inRange(hsv, lower_red2, upper_red2)\n",
        "\n",
        "        lower_pink = np.array([140, 50, 100])\n",
        "        upper_pink = np.array([170, 255, 255])\n",
        "        mask_pink = cv2.inRange(hsv, lower_pink, upper_pink)\n",
        "\n",
        "        lower_white = np.array([0, 0, 200])\n",
        "        upper_white = np.array([180, 30, 255])\n",
        "        mask_white = cv2.inRange(hsv, lower_white, upper_white)\n",
        "\n",
        "        masks = [('Red', mask_red, (0, 0, 255)),\n",
        "                 ('Pink', mask_pink, (255, 0, 255)),\n",
        "                 ('White', mask_white, (255, 255, 255))]\n",
        "\n",
        "        for label, mask, color in masks:\n",
        "            contours, _ = cv2.findContours(mask, cv2.RETR_EXTERNAL, cv2.CHAIN_APPROX_SIMPLE)\n",
        "            for cnt in contours:\n",
        "                area = cv2.contourArea(cnt)\n",
        "                if area > 500:\n",
        "                    x, y, w, h = cv2.boundingRect(cnt)\n",
        "                    cv2.rectangle(frame, (x, y), (x + w, y + h), color, 2)\n",
        "                    cv2.putText(frame, label, (x, y - 10), cv2.FONT_HERSHEY_SIMPLEX, 0.6, color, 2)\n",
        "\n",
        "        out.write(frame)\n",
        "\n",
        "    cap.release()\n",
        "    out.release()"
      ],
      "metadata": {
        "id": "QPzmfAgCNsLa"
      },
      "execution_count": 7,
      "outputs": []
    },
    {
      "cell_type": "code",
      "source": [
        "!ffmpeg -y -i temp_output.mp4 -vcodec libx264 -pix_fmt yuv420p final_tracking.mp4"
      ],
      "metadata": {
        "colab": {
          "base_uri": "https://localhost:8080/"
        },
        "id": "ah57HWHGN6qB",
        "outputId": "7a23534e-976d-4060-9f9a-80e75e24994e"
      },
      "execution_count": 8,
      "outputs": [
        {
          "output_type": "stream",
          "name": "stdout",
          "text": [
            "ffmpeg version 4.4.2-0ubuntu0.22.04.1 Copyright (c) 2000-2021 the FFmpeg developers\n",
            "  built with gcc 11 (Ubuntu 11.2.0-19ubuntu1)\n",
            "  configuration: --prefix=/usr --extra-version=0ubuntu0.22.04.1 --toolchain=hardened --libdir=/usr/lib/x86_64-linux-gnu --incdir=/usr/include/x86_64-linux-gnu --arch=amd64 --enable-gpl --disable-stripping --enable-gnutls --enable-ladspa --enable-libaom --enable-libass --enable-libbluray --enable-libbs2b --enable-libcaca --enable-libcdio --enable-libcodec2 --enable-libdav1d --enable-libflite --enable-libfontconfig --enable-libfreetype --enable-libfribidi --enable-libgme --enable-libgsm --enable-libjack --enable-libmp3lame --enable-libmysofa --enable-libopenjpeg --enable-libopenmpt --enable-libopus --enable-libpulse --enable-librabbitmq --enable-librubberband --enable-libshine --enable-libsnappy --enable-libsoxr --enable-libspeex --enable-libsrt --enable-libssh --enable-libtheora --enable-libtwolame --enable-libvidstab --enable-libvorbis --enable-libvpx --enable-libwebp --enable-libx265 --enable-libxml2 --enable-libxvid --enable-libzimg --enable-libzmq --enable-libzvbi --enable-lv2 --enable-omx --enable-openal --enable-opencl --enable-opengl --enable-sdl2 --enable-pocketsphinx --enable-librsvg --enable-libmfx --enable-libdc1394 --enable-libdrm --enable-libiec61883 --enable-chromaprint --enable-frei0r --enable-libx264 --enable-shared\n",
            "  libavutil      56. 70.100 / 56. 70.100\n",
            "  libavcodec     58.134.100 / 58.134.100\n",
            "  libavformat    58. 76.100 / 58. 76.100\n",
            "  libavdevice    58. 13.100 / 58. 13.100\n",
            "  libavfilter     7.110.100 /  7.110.100\n",
            "  libswscale      5.  9.100 /  5.  9.100\n",
            "  libswresample   3.  9.100 /  3.  9.100\n",
            "  libpostproc    55.  9.100 / 55.  9.100\n",
            "Input #0, mov,mp4,m4a,3gp,3g2,mj2, from 'temp_output.mp4':\n",
            "  Metadata:\n",
            "    major_brand     : isom\n",
            "    minor_version   : 512\n",
            "    compatible_brands: isomiso2mp41\n",
            "    encoder         : Lavf59.27.100\n",
            "  Duration: 00:01:08.72, start: 0.000000, bitrate: 1521 kb/s\n",
            "  Stream #0:0(und): Video: mpeg4 (Simple Profile) (mp4v / 0x7634706D), yuv420p, 640x368 [SAR 1:1 DAR 40:23], 1520 kb/s, 25 fps, 25 tbr, 12800 tbn, 25 tbc (default)\n",
            "    Metadata:\n",
            "      handler_name    : VideoHandler\n",
            "      vendor_id       : [0][0][0][0]\n",
            "Stream mapping:\n",
            "  Stream #0:0 -> #0:0 (mpeg4 (native) -> h264 (libx264))\n",
            "Press [q] to stop, [?] for help\n",
            "\u001b[1;36m[libx264 @ 0x563f90879bc0] \u001b[0musing SAR=1/1\n",
            "\u001b[1;36m[libx264 @ 0x563f90879bc0] \u001b[0musing cpu capabilities: MMX2 SSE2Fast SSSE3 SSE4.2 AVX FMA3 BMI2 AVX2\n",
            "\u001b[1;36m[libx264 @ 0x563f90879bc0] \u001b[0mprofile High, level 3.0, 4:2:0, 8-bit\n",
            "\u001b[1;36m[libx264 @ 0x563f90879bc0] \u001b[0m264 - core 163 r3060 5db6aa6 - H.264/MPEG-4 AVC codec - Copyleft 2003-2021 - http://www.videolan.org/x264.html - options: cabac=1 ref=3 deblock=1:0:0 analyse=0x3:0x113 me=hex subme=7 psy=1 psy_rd=1.00:0.00 mixed_ref=1 me_range=16 chroma_me=1 trellis=1 8x8dct=1 cqm=0 deadzone=21,11 fast_pskip=1 chroma_qp_offset=-2 threads=3 lookahead_threads=1 sliced_threads=0 nr=0 decimate=1 interlaced=0 bluray_compat=0 constrained_intra=0 bframes=3 b_pyramid=2 b_adapt=1 b_bias=0 direct=1 weightb=1 open_gop=0 weightp=2 keyint=250 keyint_min=25 scenecut=40 intra_refresh=0 rc_lookahead=40 rc=crf mbtree=1 crf=23.0 qcomp=0.60 qpmin=0 qpmax=69 qpstep=4 ip_ratio=1.40 aq=1:1.00\n",
            "Output #0, mp4, to 'final_tracking.mp4':\n",
            "  Metadata:\n",
            "    major_brand     : isom\n",
            "    minor_version   : 512\n",
            "    compatible_brands: isomiso2mp41\n",
            "    encoder         : Lavf58.76.100\n",
            "  Stream #0:0(und): Video: h264 (avc1 / 0x31637661), yuv420p(progressive), 640x368 [SAR 1:1 DAR 40:23], q=2-31, 25 fps, 12800 tbn (default)\n",
            "    Metadata:\n",
            "      handler_name    : VideoHandler\n",
            "      vendor_id       : [0][0][0][0]\n",
            "      encoder         : Lavc58.134.100 libx264\n",
            "    Side data:\n",
            "      cpb: bitrate max/min/avg: 0/0/0 buffer size: 0 vbv_delay: N/A\n",
            "frame= 1718 fps= 74 q=-1.0 Lsize=    4132kB time=00:01:08.60 bitrate= 493.5kbits/s speed=2.94x    \n",
            "video:4116kB audio:0kB subtitle:0kB other streams:0kB global headers:0kB muxing overhead: 0.402041%\n",
            "\u001b[1;36m[libx264 @ 0x563f90879bc0] \u001b[0mframe I:14    Avg QP:18.32  size: 29449\n",
            "\u001b[1;36m[libx264 @ 0x563f90879bc0] \u001b[0mframe P:1018  Avg QP:23.26  size:  3045\n",
            "\u001b[1;36m[libx264 @ 0x563f90879bc0] \u001b[0mframe B:686   Avg QP:29.10  size:  1022\n",
            "\u001b[1;36m[libx264 @ 0x563f90879bc0] \u001b[0mconsecutive B-frames: 39.2% 18.5% 12.7% 29.6%\n",
            "\u001b[1;36m[libx264 @ 0x563f90879bc0] \u001b[0mmb I  I16..4: 18.5% 69.0% 12.6%\n",
            "\u001b[1;36m[libx264 @ 0x563f90879bc0] \u001b[0mmb P  I16..4:  1.1%  3.4%  1.0%  P16..4: 25.0%  8.7%  5.2%  0.0%  0.0%    skip:55.5%\n",
            "\u001b[1;36m[libx264 @ 0x563f90879bc0] \u001b[0mmb B  I16..4:  0.3%  0.7%  0.4%  B16..8: 20.3%  3.1%  0.7%  direct: 0.8%  skip:73.9%  L0:48.6% L1:43.8% BI: 7.6%\n",
            "\u001b[1;36m[libx264 @ 0x563f90879bc0] \u001b[0m8x8 transform intra:61.9% inter:74.9%\n",
            "\u001b[1;36m[libx264 @ 0x563f90879bc0] \u001b[0mcoded y,uvDC,uvAC intra: 66.0% 83.2% 39.3% inter: 10.3% 12.3% 1.8%\n",
            "\u001b[1;36m[libx264 @ 0x563f90879bc0] \u001b[0mi16 v,h,dc,p: 18% 60%  7% 15%\n",
            "\u001b[1;36m[libx264 @ 0x563f90879bc0] \u001b[0mi8 v,h,dc,ddl,ddr,vr,hd,vl,hu: 18% 25% 27%  4%  5%  5%  5%  5%  7%\n",
            "\u001b[1;36m[libx264 @ 0x563f90879bc0] \u001b[0mi4 v,h,dc,ddl,ddr,vr,hd,vl,hu: 28% 32% 13%  4%  5%  5%  5%  4%  4%\n",
            "\u001b[1;36m[libx264 @ 0x563f90879bc0] \u001b[0mi8c dc,h,v,p: 34% 36% 21%  8%\n",
            "\u001b[1;36m[libx264 @ 0x563f90879bc0] \u001b[0mWeighted P-Frames: Y:0.0% UV:0.0%\n",
            "\u001b[1;36m[libx264 @ 0x563f90879bc0] \u001b[0mref P L0: 70.4% 15.1% 10.3%  4.1%\n",
            "\u001b[1;36m[libx264 @ 0x563f90879bc0] \u001b[0mref B L0: 84.4% 12.6%  3.0%\n",
            "\u001b[1;36m[libx264 @ 0x563f90879bc0] \u001b[0mref B L1: 97.0%  3.0%\n",
            "\u001b[1;36m[libx264 @ 0x563f90879bc0] \u001b[0mkb/s:490.55\n"
          ]
        }
      ]
    },
    {
      "cell_type": "code",
      "source": [
        "from google.colab import files\n",
        "files.download('final_tracking.mp4')"
      ],
      "metadata": {
        "colab": {
          "base_uri": "https://localhost:8080/",
          "height": 17
        },
        "id": "rHLC60K8OAIP",
        "outputId": "03c68aa4-f7b1-43ef-bfe1-fe882c1ceee4"
      },
      "execution_count": 9,
      "outputs": [
        {
          "output_type": "display_data",
          "data": {
            "text/plain": [
              "<IPython.core.display.Javascript object>"
            ],
            "application/javascript": [
              "\n",
              "    async function download(id, filename, size) {\n",
              "      if (!google.colab.kernel.accessAllowed) {\n",
              "        return;\n",
              "      }\n",
              "      const div = document.createElement('div');\n",
              "      const label = document.createElement('label');\n",
              "      label.textContent = `Downloading \"${filename}\": `;\n",
              "      div.appendChild(label);\n",
              "      const progress = document.createElement('progress');\n",
              "      progress.max = size;\n",
              "      div.appendChild(progress);\n",
              "      document.body.appendChild(div);\n",
              "\n",
              "      const buffers = [];\n",
              "      let downloaded = 0;\n",
              "\n",
              "      const channel = await google.colab.kernel.comms.open(id);\n",
              "      // Send a message to notify the kernel that we're ready.\n",
              "      channel.send({})\n",
              "\n",
              "      for await (const message of channel.messages) {\n",
              "        // Send a message to notify the kernel that we're ready.\n",
              "        channel.send({})\n",
              "        if (message.buffers) {\n",
              "          for (const buffer of message.buffers) {\n",
              "            buffers.push(buffer);\n",
              "            downloaded += buffer.byteLength;\n",
              "            progress.value = downloaded;\n",
              "          }\n",
              "        }\n",
              "      }\n",
              "      const blob = new Blob(buffers, {type: 'application/binary'});\n",
              "      const a = document.createElement('a');\n",
              "      a.href = window.URL.createObjectURL(blob);\n",
              "      a.download = filename;\n",
              "      div.appendChild(a);\n",
              "      a.click();\n",
              "      div.remove();\n",
              "    }\n",
              "  "
            ]
          },
          "metadata": {}
        },
        {
          "output_type": "display_data",
          "data": {
            "text/plain": [
              "<IPython.core.display.Javascript object>"
            ],
            "application/javascript": [
              "download(\"download_41436436-9d4c-42b7-b0f5-98f24e62ec75\", \"final_tracking.mp4\", 4231438)"
            ]
          },
          "metadata": {}
        }
      ]
    }
  ]
}